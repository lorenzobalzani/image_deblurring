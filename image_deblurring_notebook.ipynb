{
 "cells": [
  {
   "cell_type": "markdown",
   "metadata": {
    "id": "CDQ7rRYE8XFd"
   },
   "source": [
    "# Deep Learning Exam - Motion Debluring\n",
    "## Lorenzo Balzani\n",
    "### January 14, 2024"
   ]
  },
  {
   "cell_type": "markdown",
   "source": [
    "# Setup"
   ],
   "metadata": {
    "id": "GW1BFThhqFHm"
   }
  },
  {
   "cell_type": "code",
   "execution_count": 34,
   "metadata": {
    "id": "2GCyKJJ-8XFf"
   },
   "outputs": [],
   "source": [
    "from typing import Generator, Tuple, Any, List, Dict, Union\n",
    "\n",
    "import numpy as np\n",
    "import matplotlib.pyplot as plt\n",
    "\n",
    "import tensorflow as tf\n",
    "from tensorflow.keras import layers\n",
    "from tensorflow.keras.models import Sequential\n",
    "from tensorflow.keras.layers import Conv2D, BatchNormalization, ReLU\n",
    "from tensorflow.keras.datasets import mnist\n",
    "from tensorflow.keras.callbacks import EarlyStopping\n",
    "\n",
    "checkpoint_name: str = \"custom_deblurring_model.keras\"\n",
    "\n",
    "#random_state: int = 42\n",
    "#np.random.seed(random_state)\n",
    "#tf.random.set_seed(random_state)"
   ]
  },
  {
   "cell_type": "markdown",
   "source": [
    "# Dataset"
   ],
   "metadata": {
    "id": "EZPp_49sqGao"
   }
  },
  {
   "cell_type": "code",
   "execution_count": 2,
   "metadata": {
    "id": "GIFBIuAy8XFj",
    "colab": {
     "base_uri": "https://localhost:8080/"
    },
    "outputId": "3035efbd-3671-42de-e9b3-bca776ac46ba"
   },
   "outputs": [
    {
     "output_type": "stream",
     "name": "stdout",
     "text": [
      "Downloading data from https://storage.googleapis.com/tensorflow/tf-keras-datasets/mnist.npz\n",
      "11490434/11490434 [==============================] - 0s 0us/step\n"
     ]
    }
   ],
   "source": [
    "(x_train, y_train), (x_test, y_test) = mnist.load_data()\n",
    "x_train = (x_train/255.).astype(np.float32)\n",
    "x_test = (x_test/255.).astype(np.float32)\n",
    "\n",
    "x_validation = x_train[50000:, :, :]\n",
    "x_train = x_train[:50000, :, :]"
   ]
  },
  {
   "cell_type": "markdown",
   "source": [
    "## Dataset Generator"
   ],
   "metadata": {
    "id": "77N9Ouz4q1Ow"
   }
  },
  {
   "cell_type": "code",
   "source": [
    "def generator(dataset,batchsize: int, moves: int=10):\n",
    "  while True:\n",
    "    rand = np.random.randint(dataset.shape[0],size=batchsize)\n",
    "    y_truth = dataset[rand]\n",
    "    blurred = np.copy(y_truth)\n",
    "    moving = tf.expand_dims(y_truth,axis=-1)\n",
    "\n",
    "    for i in range(moves):\n",
    "      #RandomTranslation requires a channel axis\n",
    "      moving = layers.RandomTranslation(0.07,0.07,fill_mode='constant',interpolation='bilinear')(moving)\n",
    "      blurred = blurred + tf.squeeze(moving)\n",
    "    blurred = blurred/(moves+1)\n",
    "    yield(blurred,y_truth)"
   ],
   "metadata": {
    "id": "iI-NK7Ac5j_V"
   },
   "execution_count": 3,
   "outputs": []
  },
  {
   "cell_type": "markdown",
   "source": [
    "# My Solution: Model Definition"
   ],
   "metadata": {
    "id": "dsLj7XwBt-5v"
   }
  },
  {
   "cell_type": "markdown",
   "source": [
    "## Hyperparameters Choices\n",
    "- Activation Function: Rectified Linear Unit (ReLU) is chosen as the activation function for all convolutional layers, introducing non-linearity to the model.\n",
    "- Batch Normalization: Applied after each ReLU activation to improve convergence and generalization by normalizing layer inputs.\n",
    "- Padding: 'Same' padding is used in convolutional layers to maintain spatial dimensions.\n",
    "- Kernel Sizes: Different kernel sizes are used in convolutional layers, ranging from (7, 7) to (3, 3). This allows the model to capture features at different scales.\n",
    "- Number of Filters: The number of filters in each layer gradually decreases, potentially capturing high-level features in deeper layers.\n",
    "- Final Activation: Linear activation is chosen for the output layer, indicating a regression task where the model predicts continuous values."
   ],
   "metadata": {
    "id": "rvQ0gZ75JDAA"
   }
  },
  {
   "cell_type": "code",
   "source": [
    "def build_deblurring_model(input_shape: Tuple[int, int, int],\n",
    "                          filters: List[Tuple[int, tuple[int, int], Any]],\n",
    "                          final_filter: Dict[str, Union[int, str, Tuple[int, int]]],\n",
    "                          optimizer: tf.optimizers.Optimizer,\n",
    "                          loss: str,\n",
    "                          metrics: List[str]) -> tf.keras.models.Model:\n",
    "    model = Sequential()\n",
    "\n",
    "    for num_filters, filter_size, activation in filters:\n",
    "        model.add(Conv2D(num_filters, filter_size, padding=\"same\", input_shape=input_shape))\n",
    "        model.add(activation)\n",
    "        model.add(BatchNormalization())\n",
    "\n",
    "    model.add(Conv2D(final_filter[\"num_filters\"], final_filter[\"filter_size\"], activation=final_filter[\"activation\"], padding=\"same\"))\n",
    "    model.compile(optimizer=optimizer, loss=loss, metrics=metrics)\n",
    "\n",
    "    return model\n",
    "\n",
    "\n",
    "input_shape: Tuple[int, int, int] = (28, 28, 1)\n",
    "custom_deblurring_model = build_deblurring_model(input_shape,\n",
    "                                                [(32, (7, 7), ReLU()), (64, (5, 5), ReLU()), (128, (5, 5), ReLU()), (256, (3, 3), ReLU()),\n",
    "                                                (128, (3, 3), ReLU()), (64, (7, 7), ReLU()), (32, (5, 5), ReLU()), (16, (3, 3), ReLU())],\n",
    "                                                {\n",
    "                                                  \"num_filters\": 1,\n",
    "                                                  \"filter_size\": (3, 3),\n",
    "                                                  \"activation\": \"linear\"\n",
    "                                                },\n",
    "                                                tf.keras.optimizers.Adam(5E-4),\n",
    "                                                \"mean_squared_error\",\n",
    "                                                [\"mse\"]\n",
    "                                                 )\n",
    "custom_deblurring_model.summary()"
   ],
   "metadata": {
    "colab": {
     "base_uri": "https://localhost:8080/"
    },
    "id": "pjeukec8q0Cw",
    "outputId": "5d0880e5-8e8c-459d-e723-c720342fcd79"
   },
   "execution_count": 4,
   "outputs": [
    {
     "output_type": "stream",
     "name": "stdout",
     "text": [
      "Model: \"sequential\"\n",
      "_________________________________________________________________\n",
      " Layer (type)                Output Shape              Param #   \n",
      "=================================================================\n",
      " conv2d (Conv2D)             (None, 28, 28, 32)        1600      \n",
      "                                                                 \n",
      " re_lu (ReLU)                (None, 28, 28, 32)        0         \n",
      "                                                                 \n",
      " batch_normalization (Batch  (None, 28, 28, 32)        128       \n",
      " Normalization)                                                  \n",
      "                                                                 \n",
      " conv2d_1 (Conv2D)           (None, 28, 28, 64)        51264     \n",
      "                                                                 \n",
      " re_lu_1 (ReLU)              (None, 28, 28, 64)        0         \n",
      "                                                                 \n",
      " batch_normalization_1 (Bat  (None, 28, 28, 64)        256       \n",
      " chNormalization)                                                \n",
      "                                                                 \n",
      " conv2d_2 (Conv2D)           (None, 28, 28, 128)       204928    \n",
      "                                                                 \n",
      " re_lu_2 (ReLU)              (None, 28, 28, 128)       0         \n",
      "                                                                 \n",
      " batch_normalization_2 (Bat  (None, 28, 28, 128)       512       \n",
      " chNormalization)                                                \n",
      "                                                                 \n",
      " conv2d_3 (Conv2D)           (None, 28, 28, 256)       295168    \n",
      "                                                                 \n",
      " re_lu_3 (ReLU)              (None, 28, 28, 256)       0         \n",
      "                                                                 \n",
      " batch_normalization_3 (Bat  (None, 28, 28, 256)       1024      \n",
      " chNormalization)                                                \n",
      "                                                                 \n",
      " conv2d_4 (Conv2D)           (None, 28, 28, 128)       295040    \n",
      "                                                                 \n",
      " re_lu_4 (ReLU)              (None, 28, 28, 128)       0         \n",
      "                                                                 \n",
      " batch_normalization_4 (Bat  (None, 28, 28, 128)       512       \n",
      " chNormalization)                                                \n",
      "                                                                 \n",
      " conv2d_5 (Conv2D)           (None, 28, 28, 64)        401472    \n",
      "                                                                 \n",
      " re_lu_5 (ReLU)              (None, 28, 28, 64)        0         \n",
      "                                                                 \n",
      " batch_normalization_5 (Bat  (None, 28, 28, 64)        256       \n",
      " chNormalization)                                                \n",
      "                                                                 \n",
      " conv2d_6 (Conv2D)           (None, 28, 28, 32)        51232     \n",
      "                                                                 \n",
      " re_lu_6 (ReLU)              (None, 28, 28, 32)        0         \n",
      "                                                                 \n",
      " batch_normalization_6 (Bat  (None, 28, 28, 32)        128       \n",
      " chNormalization)                                                \n",
      "                                                                 \n",
      " conv2d_7 (Conv2D)           (None, 28, 28, 16)        4624      \n",
      "                                                                 \n",
      " re_lu_7 (ReLU)              (None, 28, 28, 16)        0         \n",
      "                                                                 \n",
      " batch_normalization_7 (Bat  (None, 28, 28, 16)        64        \n",
      " chNormalization)                                                \n",
      "                                                                 \n",
      " conv2d_8 (Conv2D)           (None, 28, 28, 1)         145       \n",
      "                                                                 \n",
      "=================================================================\n",
      "Total params: 1308353 (4.99 MB)\n",
      "Trainable params: 1306913 (4.99 MB)\n",
      "Non-trainable params: 1440 (5.62 KB)\n",
      "_________________________________________________________________\n"
     ]
    }
   ]
  },
  {
   "cell_type": "markdown",
   "source": [
    "# My Solution: Model Training"
   ],
   "metadata": {
    "id": "QEhiu0S_uEO_"
   }
  },
  {
   "cell_type": "markdown",
   "source": [
    "### 20 Epochs With Batchsize = 128"
   ],
   "metadata": {
    "id": "8k1FBimbI0YE"
   }
  },
  {
   "cell_type": "markdown",
   "source": [
    "A batch size of 128 strikes a balance between computational efficiency and model generalization.\n",
    "Larger batches provide computational speed-ups but may sacrifice generalization. Smaller batches can introduce noise but might help the model generalize better.\n",
    "Choosing 128 is a compromise, leveraging parallelism in GPUs without sacrificing too much on generalization."
   ],
   "metadata": {
    "id": "NxWAF525JtuU"
   }
  },
  {
   "cell_type": "code",
   "source": [
    "def train_custom_model(train_generator: Generator[Tuple, None, None],\n",
    "                       epochs: int,\n",
    "                       validation_generator: Generator[Tuple, None, None],\n",
    "                       steps_per_epoch: int,\n",
    "                       validation_steps: int,\n",
    "                       verbose: int = 1):\n",
    "    tf.debugging.disable_traceback_filtering()\n",
    "    train_history  = custom_deblurring_model.fit(train_generator,\n",
    "                                epochs=epochs,\n",
    "                                validation_data=validation_generator,\n",
    "                                steps_per_epoch=steps_per_epoch,\n",
    "                                validation_steps=validation_steps,\n",
    "                                callbacks=EarlyStopping(monitor=\"val_loss\", patience=2, restore_best_weights=True),\n",
    "                                verbose=verbose)\n",
    "    return train_history\n",
    "\n",
    "train_batch_size: int = 128\n",
    "eval_batch_size: int = 128\n",
    "epochs: int = 5\n",
    "\n",
    "train_generator = generator(x_train, train_batch_size)\n",
    "validation_generator = generator(x_validation, eval_batch_size)\n",
    "\n",
    "train_history = train_custom_model(train_generator,\n",
    "                   epochs=epochs,\n",
    "                   validation_generator=validation_generator,\n",
    "                   steps_per_epoch=len(x_train)//train_batch_size,\n",
    "                   validation_steps=len(x_validation)//eval_batch_size)\n",
    "\n",
    "custom_deblurring_model.save(checkpoint_name)"
   ],
   "metadata": {
    "colab": {
     "base_uri": "https://localhost:8080/"
    },
    "id": "tpHlDWHXvOWt",
    "outputId": "4c215233-9faa-4e51-a0f6-fb8ba7fabd59"
   },
   "execution_count": 10,
   "outputs": [
    {
     "output_type": "stream",
     "name": "stdout",
     "text": [
      "Epoch 1/5\n",
      "390/390 [==============================] - 116s 287ms/step - loss: 0.0699 - mse: 0.0699 - val_loss: 0.0782 - val_mse: 0.0782\n",
      "Epoch 2/5\n",
      "390/390 [==============================] - 107s 275ms/step - loss: 0.0332 - mse: 0.0332 - val_loss: 0.0325 - val_mse: 0.0325\n",
      "Epoch 3/5\n",
      "390/390 [==============================] - 111s 286ms/step - loss: 0.0266 - mse: 0.0266 - val_loss: 0.0262 - val_mse: 0.0262\n",
      "Epoch 4/5\n",
      "390/390 [==============================] - 111s 284ms/step - loss: 0.0221 - mse: 0.0221 - val_loss: 0.0209 - val_mse: 0.0209\n",
      "Epoch 5/5\n",
      "390/390 [==============================] - 106s 273ms/step - loss: 0.0177 - mse: 0.0177 - val_loss: 0.0165 - val_mse: 0.0165\n"
     ]
    }
   ]
  },
  {
   "cell_type": "markdown",
   "source": [
    "I trained the model for further 10 epochs (for a total of 15 epochs), but due to Google Colab isseus, I did that in different cells. Later, you can download the model checkpoint from Google Drive."
   ],
   "metadata": {
    "id": "mOzgARbnZ3Rf"
   }
  },
  {
   "cell_type": "markdown",
   "source": [
    "# My Solution: Evaluation"
   ],
   "metadata": {
    "id": "mSxjNOOwvX8Z"
   }
  },
  {
   "cell_type": "markdown",
   "source": [
    "## Download and Load the Model Checkpoint"
   ],
   "metadata": {
    "id": "K__guez9KFYK"
   }
  },
  {
   "cell_type": "code",
   "source": [
    "!wget https://github.com/lorenzobalzani/image_deblurring/raw/master/{checkpoint_name}\n",
    "custom_deblurring_model = tf.keras.models.load_model(checkpoint_name)"
   ],
   "metadata": {
    "colab": {
     "base_uri": "https://localhost:8080/"
    },
    "id": "pLV8zpg6MVcY",
    "outputId": "6cbc27f3-a814-4ade-a823-ed0ce5e98d32"
   },
   "execution_count": 33,
   "outputs": [
    {
     "output_type": "stream",
     "name": "stdout",
     "text": [
      "--2024-01-14 18:23:28--  https://github.com/lorenzobalzani/deep_learning_exam/raw/master/custom_deblurring_model.keras\n",
      "Resolving github.com (github.com)... 140.82.114.4\n",
      "Connecting to github.com (github.com)|140.82.114.4|:443... connected.\n",
      "HTTP request sent, awaiting response... 302 Found\n",
      "Location: https://raw.githubusercontent.com/lorenzobalzani/deep_learning_exam/master/custom_deblurring_model.keras [following]\n",
      "--2024-01-14 18:23:28--  https://raw.githubusercontent.com/lorenzobalzani/deep_learning_exam/master/custom_deblurring_model.keras\n",
      "Resolving raw.githubusercontent.com (raw.githubusercontent.com)... 185.199.109.133, 185.199.108.133, 185.199.111.133, ...\n",
      "Connecting to raw.githubusercontent.com (raw.githubusercontent.com)|185.199.109.133|:443... connected.\n",
      "HTTP request sent, awaiting response... 200 OK\n",
      "Length: 15806109 (15M) [application/octet-stream]\n",
      "Saving to: ‘custom_deblurring_model.keras’\n",
      "\n",
      "custom_deblurring_m 100%[===================>]  15.07M  98.8MB/s    in 0.2s    \n",
      "\n",
      "2024-01-14 18:23:28 (98.8 MB/s) - ‘custom_deblurring_model.keras’ saved [15806109/15806109]\n"
     ]
    }
   ]
  },
  {
   "cell_type": "code",
   "source": [
    "def evaluate_model(evaluator_generator: Generator[Tuple, None, None],\n",
    "                   deblurring_model: tf.keras.Model,\n",
    "                   n_iterations: int = 10) -> List[float]:\n",
    "    mse_per_iteration: List[float] = list()\n",
    "\n",
    "    for iteration in range(1, n_iterations + 1):\n",
    "        test_data = next(evaluator_generator)\n",
    "        blurred_images, ground_truth = test_data[0], test_data[1]\n",
    "\n",
    "        predictions = deblurring_model.predict(blurred_images, verbose=0)\n",
    "        predictions = predictions.squeeze(axis=-1)\n",
    "\n",
    "        mse = np.mean(np.square(ground_truth - predictions))\n",
    "        mse_per_iteration.append(mse)\n",
    "\n",
    "        print(f\"Iteration {iteration}/{n_iterations} -> Mean Squared Error: {mse:.5f}\")\n",
    "\n",
    "    avg_mse = np.mean(mse_per_iteration)\n",
    "    std_dev_mse = np.std(mse_per_iteration)\n",
    "    print(f\"\\nAverage MSE (std. dev) over {n_iterations} iterations: {avg_mse:.5f} ± {std_dev_mse:.5f}\")\n",
    "\n",
    "    return mse_per_iteration\n",
    "\n",
    "n_samples_test: int = 10_000\n",
    "evaluated_mse = evaluate_model(generator(x_test, n_samples_test),\n",
    "                               custom_deblurring_model,\n",
    "                               n_iterations=10)"
   ],
   "metadata": {
    "colab": {
     "base_uri": "https://localhost:8080/"
    },
    "id": "7uZVozFXZomy",
    "outputId": "e01acabc-0a48-4656-b371-96a814bc30cd"
   },
   "execution_count": 12,
   "outputs": [
    {
     "output_type": "stream",
     "name": "stdout",
     "text": [
      "Iteration 1/10 -> Mean Squared Error: 0.00435\n",
      "Iteration 2/10 -> Mean Squared Error: 0.00439\n",
      "Iteration 3/10 -> Mean Squared Error: 0.00435\n",
      "Iteration 4/10 -> Mean Squared Error: 0.00437\n",
      "Iteration 5/10 -> Mean Squared Error: 0.00437\n",
      "Iteration 6/10 -> Mean Squared Error: 0.00440\n",
      "Iteration 7/10 -> Mean Squared Error: 0.00437\n",
      "Iteration 8/10 -> Mean Squared Error: 0.00433\n",
      "Iteration 9/10 -> Mean Squared Error: 0.00443\n",
      "Iteration 10/10 -> Mean Squared Error: 0.00435\n",
      "\n",
      "Average MSE (std. dev) over 10 iterations: 0.00437 ± 0.00003\n"
     ]
    }
   ]
  },
  {
   "cell_type": "code",
   "source": [
    "def plot(x, y):\n",
    "  no = x.shape[0]\n",
    "  plt.figure(figsize=(2*no, 4))\n",
    "  for i in range(no):\n",
    "    # display original\n",
    "    ax = plt.subplot(2, no, i + 1)\n",
    "    plt.imshow(x[i])\n",
    "    plt.gray()\n",
    "    ax.get_xaxis().set_visible(False)\n",
    "    ax.get_yaxis().set_visible(False)\n",
    "\n",
    "    # display reconstruction\n",
    "    ax = plt.subplot(2, no, i + 1 + no)\n",
    "    plt.imshow(y[i])\n",
    "    plt.gray()\n",
    "    ax.get_xaxis().set_visible(False)\n",
    "    ax.get_yaxis().set_visible(False)\n",
    "\n",
    "  plt.show()\n",
    "\n",
    "x,y = next(generator(x_test, 6))\n",
    "plot(x,y)"
   ],
   "metadata": {
    "colab": {
     "base_uri": "https://localhost:8080/",
     "height": 337
    },
    "id": "R_FtcN2LMh0_",
    "outputId": "d0d516f6-cfe9-46f9-ae00-becc012b194d"
   },
   "execution_count": 14,
   "outputs": [
    {
     "output_type": "display_data",
     "data": {
      "text/plain": [
       "<Figure size 1200x400 with 12 Axes>"
      ],
      "image/png": "[encoded data removed]"
     },
     "metadata": {}
    }
   ]
  }
 ],
 "metadata": {
  "accelerator": "GPU",
  "colab": {
   "gpuType": "T4",
   "provenance": [],
   "collapsed_sections": [
    "EZPp_49sqGao",
    "77N9Ouz4q1Ow",
    "rvQ0gZ75JDAA",
    "QEhiu0S_uEO_",
    "8k1FBimbI0YE"
   ]
  },
  "kernelspec": {
   "display_name": "Python 3",
   "name": "python3"
  },
  "language_info": {
   "codemirror_mode": {
    "name": "ipython",
    "version": 3
   },
   "file_extension": ".py",
   "mimetype": "text/x-python",
   "name": "python",
   "nbconvert_exporter": "python",
   "pygments_lexer": "ipython3",
   "version": "3.8.18"
  }
 },
 "nbformat": 4,
 "nbformat_minor": 0
}
